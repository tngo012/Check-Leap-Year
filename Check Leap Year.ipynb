{
 "cells": [
  {
   "cell_type": "markdown",
   "metadata": {},
   "source": [
    "### Leap Year is when we have 29 days in February.\n",
    "### The next leap year is in 2024."
   ]
  },
  {
   "cell_type": "code",
   "execution_count": 1,
   "metadata": {},
   "outputs": [
    {
     "name": "stdout",
     "output_type": "stream",
     "text": [
      "Welcome to the Leap Year Program\n",
      "Enter Year: 2020\n",
      "2020 is a Leap Year.\n",
      "Enter 1 to enter another year\n",
      "Enter 0 to end\n",
      "1\n",
      "Enter Year: 2021\n",
      "No, 2021 is not a Leap Year.\n",
      "Enter 1 to enter another year\n",
      "Enter 0 to end\n",
      "0\n",
      "Exiting Program!\n"
     ]
    }
   ],
   "source": [
    "print('Welcome to the Leap Year Program')\n",
    "\n",
    "# prompt user the year\n",
    "year = int(input(\"Enter Year: \"))\n",
    "    \n",
    "# loop allows users to get info from other years\n",
    "while year:\n",
    "\n",
    "    # create the main function\n",
    "    def main():\n",
    "        if (year%4) == 0:\n",
    "            if (year%100) == 0:\n",
    "                if (year%400) == 0:\n",
    "                    print('{} is a Leap Year'.format(year))\n",
    "                else:\n",
    "                    print('No')\n",
    "            \n",
    "            else:\n",
    "                print('{} is a Leap Year.'.format(year))\n",
    "        else:\n",
    "            print('No, {} is not a Leap Year.'.format(year))\n",
    "        return\n",
    "    # call the main function\n",
    "    main()\n",
    "\n",
    "     # allow the user to continue or stop\n",
    "    user_input2 = input('Enter 1 to enter another year\\nEnter 0 to end\\n')\n",
    "        \n",
    "    # stop the loop when 0 is entered\n",
    "    if user_input2 == '0':\n",
    "        print('Exiting Program!')\n",
    "        break\n",
    "        \n",
    "    # continue loop when 1 is entered\n",
    "    elif user_input2 == '1':   \n",
    "        # prompt user for the zip code\n",
    "        year = int(input(\"Enter Year: \"))"
   ]
  },
  {
   "cell_type": "code",
   "execution_count": null,
   "metadata": {},
   "outputs": [],
   "source": []
  }
 ],
 "metadata": {
  "kernelspec": {
   "display_name": "Python 3",
   "language": "python",
   "name": "python3"
  },
  "language_info": {
   "codemirror_mode": {
    "name": "ipython",
    "version": 3
   },
   "file_extension": ".py",
   "mimetype": "text/x-python",
   "name": "python",
   "nbconvert_exporter": "python",
   "pygments_lexer": "ipython3",
   "version": "3.7.3"
  }
 },
 "nbformat": 4,
 "nbformat_minor": 2
}
